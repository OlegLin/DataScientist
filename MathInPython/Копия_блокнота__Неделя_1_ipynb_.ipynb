{
 "cells": [
  {
   "cell_type": "markdown",
   "metadata": {
    "toc": true
   },
   "source": [
    "<h1>Table of Contents<span class=\"tocSkip\"></span></h1>\n",
    "<div class=\"toc\"><ul class=\"toc-item\"><li><span><a href=\"#Неделя-1:-Практика\" data-toc-modified-id=\"Неделя-1:-Практика-1\"><span class=\"toc-item-num\">1&nbsp;&nbsp;</span>Неделя 1: Практика</a></span><ul class=\"toc-item\"><li><span><a href=\"#Темы:\" data-toc-modified-id=\"Темы:-1.1\"><span class=\"toc-item-num\">1.1&nbsp;&nbsp;</span>Темы:</a></span><ul class=\"toc-item\"><li><span><a href=\"#1.-Математический-анализ\" data-toc-modified-id=\"1.-Математический-анализ-1.1.1\"><span class=\"toc-item-num\">1.1.1&nbsp;&nbsp;</span>1. Математический анализ</a></span></li><li><span><a href=\"#2.-Линейная-алгебра\" data-toc-modified-id=\"2.-Линейная-алгебра-1.1.2\"><span class=\"toc-item-num\">1.1.2&nbsp;&nbsp;</span>2. Линейная алгебра</a></span></li><li><span><a href=\"#3.-Теория-вероятностей\" data-toc-modified-id=\"3.-Теория-вероятностей-1.1.3\"><span class=\"toc-item-num\">1.1.3&nbsp;&nbsp;</span>3. Теория вероятностей</a></span></li></ul></li></ul></li><li><span><a href=\"#Математический-анализ\" data-toc-modified-id=\"Математический-анализ-2\"><span class=\"toc-item-num\">2&nbsp;&nbsp;</span>Математический анализ</a></span></li><li><span><a href=\"#Линейная-алгебра\" data-toc-modified-id=\"Линейная-алгебра-3\"><span class=\"toc-item-num\">3&nbsp;&nbsp;</span>Линейная алгебра</a></span><ul class=\"toc-item\"><li><span><a href=\"#Затравочка-к-профильному-модулю-(будет-сложно,-но-интересно!)\" data-toc-modified-id=\"Затравочка-к-профильному-модулю-(будет-сложно,-но-интересно!)-3.1\"><span class=\"toc-item-num\">3.1&nbsp;&nbsp;</span><strong>Затравочка к профильному модулю (будет сложно, но интересно!)</strong></a></span><ul class=\"toc-item\"><li><span><a href=\"#Задача.-Решение-СЛАУ.\" data-toc-modified-id=\"Задача.-Решение-СЛАУ.-3.1.1\"><span class=\"toc-item-num\">3.1.1&nbsp;&nbsp;</span>Задача. Решение СЛАУ.</a></span></li></ul></li><li><span><a href=\"#Расстояния-между-векторами\" data-toc-modified-id=\"Расстояния-между-векторами-3.2\"><span class=\"toc-item-num\">3.2&nbsp;&nbsp;</span>Расстояния между векторами</a></span><ul class=\"toc-item\"><li><span><a href=\"#Задача.-Коллаборативная-фильтрация.\" data-toc-modified-id=\"Задача.-Коллаборативная-фильтрация.-3.2.1\"><span class=\"toc-item-num\">3.2.1&nbsp;&nbsp;</span>Задача. Коллаборативная фильтрация.</a></span><ul class=\"toc-item\"><li><span><a href=\"#Вариант-1\" data-toc-modified-id=\"Вариант-1-3.2.1.1\"><span class=\"toc-item-num\">3.2.1.1&nbsp;&nbsp;</span>Вариант 1</a></span></li><li><span><a href=\"#Вариант-2\" data-toc-modified-id=\"Вариант-2-3.2.1.2\"><span class=\"toc-item-num\">3.2.1.2&nbsp;&nbsp;</span>Вариант 2</a></span></li></ul></li></ul></li></ul></li><li><span><a href=\"#Подведем-итог-того,-что-мы-узнали\" data-toc-modified-id=\"Подведем-итог-того,-что-мы-узнали-4\"><span class=\"toc-item-num\">4&nbsp;&nbsp;</span>Подведем итог того, что мы узнали</a></span></li></ul></div>"
   ]
  },
  {
   "cell_type": "markdown",
   "metadata": {
    "id": "IWThQ9NGt784"
   },
   "source": [
    "## Неделя 1: Практика\n",
    "### Темы:\n",
    "#### 1. Математический анализ\n",
    "#### 2. Линейная алгебра\n",
    "#### 3. Теория вероятностей"
   ]
  },
  {
   "cell_type": "markdown",
   "metadata": {
    "id": "X0d3jQ3FuZOX"
   },
   "source": [
    "---\n",
    "\n",
    "## Математический анализ"
   ]
  },
  {
   "cell_type": "code",
   "execution_count": 1,
   "metadata": {
    "colab": {
     "base_uri": "https://localhost:8080/"
    },
    "id": "0Ta9ZigUt6sv",
    "outputId": "42cb2d11-7c44-44d3-c37f-ee2d9319847b"
   },
   "outputs": [
    {
     "name": "stdout",
     "output_type": "stream",
     "text": [
      "Наша функция принимает значение 4 в точке x = 2, должна принимать значение 4\n",
      "Наша функция принимает значение 9 в точке x = -3, должна принимать значение 9\n"
     ]
    }
   ],
   "source": [
    "# Определим функцию f(x) = x^2\n",
    "\n",
    "def f(x):\n",
    "  return x ** 2\n",
    "\n",
    "# Проверим, что она принимает те значения, которые мы ожидаем\n",
    "\n",
    "print(f\"Наша функция принимает значение {f(2)} в точке x = 2, должна принимать значение 4\")\n",
    "print(f\"Наша функция принимает значение {f(-3)} в точке x = -3, должна принимать значение 9\")"
   ]
  },
  {
   "cell_type": "code",
   "execution_count": 4,
   "metadata": {
    "id": "pPjUwL_oeqyu"
   },
   "outputs": [
    {
     "data": {
      "text/plain": [
       "[<matplotlib.lines.Line2D at 0x7fe1b20cf370>]"
      ]
     },
     "execution_count": 4,
     "metadata": {},
     "output_type": "execute_result"
    },
    {
     "data": {
      "image/png": "[encoded data removed]",
      "text/plain": [
       "<Figure size 640x480 with 1 Axes>"
      ]
     },
     "metadata": {},
     "output_type": "display_data"
    }
   ],
   "source": [
    "# Определим функцию f(x) = x^2\n",
    "def f(x):\n",
    "  return x ** 2\n",
    "\n",
    "# Определим функцию f(x) = ln(1 + x)\n",
    "import math\n",
    "import matplotlib as mpl\n",
    "import matplotlib.pyplot as plt\n",
    "\n",
    "\n",
    "def f(x):\n",
    "  return x ** 2 \n",
    "\n",
    "xs = [-1, 0, 1]\n",
    "ys = [1, 0, 1]\n",
    "\n",
    "plt.plot(xs, ys)\n",
    "\n",
    "\n",
    "# Нарисуем их! Воспользуемся для этого библиотекой matplotlib\n"
   ]
  },
  {
   "cell_type": "code",
   "execution_count": null,
   "metadata": {
    "id": "U73fIbG7vSQ_"
   },
   "outputs": [],
   "source": [
    "# Определим функцию f(x) = x^2 + sin(x) - ln(1 + x)\n",
    "def f(x):\n",
    "  return x ** 2 + math.sin(x) - math.log(1+x)\n",
    "\n",
    "\n",
    "\n",
    "# Определим функцию g(x) = f'(x) -- производную функции f(x)\n",
    "# g(x) = ...\n",
    "\n",
    "..."
   ]
  },
  {
   "cell_type": "markdown",
   "metadata": {
    "id": "9gnNKzo8v0pD"
   },
   "source": [
    "А что если мы не знаем как аналитически выглядит функция?\n",
    "\n",
    "Вспомним определие производной:\n",
    "\n",
    "$$\n",
    "f'(x_0) = \\lim_{x→x_0}\\frac{f(x) - f(x_0)}{x - x_0}\n",
    "$$\n",
    "\n",
    "Давайте воспользуемся этим знанием!"
   ]
  },
  {
   "cell_type": "code",
   "execution_count": null,
   "metadata": {
    "id": "pGPRPLDPxG_Z"
   },
   "outputs": [],
   "source": [
    "# Определим функцию g_numerical, которая считает производную f(x) численно\n",
    "\n",
    "...\n",
    "\n",
    "# Давайте сравним значение реальной производной и посчитанной численно в разных точках\n",
    "\n",
    "# В точке x = 0\n",
    "\n",
    "print('', ...)\n",
    "print('', ...)\n",
    "\n",
    "# В точке x = 100\n",
    "\n",
    "print('', ...)\n",
    "print('', ...)"
   ]
  },
  {
   "cell_type": "code",
   "execution_count": null,
   "metadata": {
    "id": "fe3800KrfNlP"
   },
   "outputs": [],
   "source": [
    "# Нарисуем график функции аналитической производной и посчитанной численно\n",
    "\n",
    "..."
   ]
  },
  {
   "cell_type": "markdown",
   "metadata": {
    "id": "2g07PJTXynyh"
   },
   "source": [
    "---\n",
    "\n",
    "## Линейная алгебра\n",
    "\n",
    "В этом разделе мы познакомимся с библиотекой numpy и с реализациями элементов линейной алгебры в коде."
   ]
  },
  {
   "cell_type": "code",
   "execution_count": null,
   "metadata": {
    "id": "gyBe_JPEytfo"
   },
   "outputs": [],
   "source": [
    "import numpy as np"
   ]
  },
  {
   "cell_type": "code",
   "execution_count": null,
   "metadata": {
    "id": "czjZMRqL3OKf"
   },
   "outputs": [],
   "source": [
    "# Создадим вектор a = (1, 2, 3) и вектор b = (4, 5, 6)\n",
    "\n",
    "...\n",
    "\n",
    "# Произведем операции с векторами:\n",
    "\n",
    "# Сложение\n",
    "\n",
    "print('', ...)\n",
    "\n",
    "# Вычитание\n",
    "\n",
    "print('', ...)\n",
    "\n",
    "# Умножение на число\n",
    "\n",
    "print('', ...)\n",
    "\n",
    "# *Поэлементное умножение\n",
    "\n",
    "print('', ...)"
   ]
  },
  {
   "cell_type": "markdown",
   "metadata": {
    "id": "BcT9cdE037-B"
   },
   "source": [
    "Вспомним такое важное действие с векторами, как скалярное произведение:\n",
    "\n",
    "$$\\langle a, b \\rangle = |a|\\cdot |b| \\cdot \\cos(\\alpha) = \\sum_i a_i\\cdot b_i$$"
   ]
  },
  {
   "cell_type": "code",
   "execution_count": null,
   "metadata": {
    "id": "S_-YdFhV3tuC"
   },
   "outputs": [],
   "source": [
    "# Посчитаем скалярное произведение по формуле\n",
    "\n",
    "print('', ...)\n",
    "\n",
    "# Посчитаем скалярное произведение возможностями numpy (np.dot/@)\n",
    "\n",
    "print('', ...)"
   ]
  },
  {
   "cell_type": "code",
   "execution_count": null,
   "metadata": {
    "id": "a9QwWdyb3xUY"
   },
   "outputs": [],
   "source": [
    "# Аналогично можно создавать матрицы. \n",
    "# Создадим следующие матрицы:\n",
    "# A = |1,2|  B = |-1, 0|\n",
    "#     |3,4|      |0 , 1|\n",
    "\n",
    "...\n",
    "\n",
    "# Аналогичные, а также некоторые дополнительные операции можно производить с матрицами:\n",
    "\n",
    "# Сложение\n",
    "\n",
    "print('', ...)\n",
    "\n",
    "# Вычитание\n",
    "\n",
    "print('', ...)\n",
    "\n",
    "# Умножение на число\n",
    "\n",
    "print('', ...)\n",
    "\n",
    "# Математическое умножение одной матрицы на другую\n",
    "\n",
    "print('', ...)\n",
    "\n",
    "# Транспонирование\n",
    "\n",
    "print('', ...)\n",
    "\n",
    "# *Поэлементное умножение одной матрицы на другую\n",
    "\n",
    "print('', ...)"
   ]
  },
  {
   "cell_type": "markdown",
   "metadata": {
    "id": "nz9VHWZx6Rb7"
   },
   "source": [
    "### **Затравочка к профильному модулю (будет сложно, но интересно!)**\n",
    "\n",
    "Важным преобразованием над матрицей является нахождение ее определителя.\n",
    "\n",
    "Для матрицы 2х2 выпишем ее на примере матрицы A:\n",
    "\n",
    "$$det(A) = det\\begin{bmatrix} 1 & 2 \\\\ 3 & 4 \\end{bmatrix} = 1\\cdot 4 - 2 \\cdot 3 = -2$$"
   ]
  },
  {
   "cell_type": "code",
   "execution_count": null,
   "metadata": {
    "id": "0Nd49Ia07F5Q"
   },
   "outputs": [],
   "source": [
    "# Напишем функцию, которая считает определитель матрицы 2х2\n",
    "\n",
    "...\n",
    "\n",
    "# Воспользуемся методами numpy (np.linalg.det)\n",
    "\n",
    "print('', ...)"
   ]
  },
  {
   "cell_type": "markdown",
   "metadata": {
    "id": "tInT3AxK8h29"
   },
   "source": [
    "Еще одной важной концепцией в линейной алгебре является обратная матрица. Это такая матрица, умножение на которую исходной будет давать единичную (матрица, у которой на диагонали стоят единицы, а в других местах нулы)\n",
    "\n",
    "$$A^{-1}: AA^{-1} = E$$"
   ]
  },
  {
   "cell_type": "code",
   "execution_count": null,
   "metadata": {
    "id": "ycgVhrDq889I"
   },
   "outputs": [],
   "source": [
    "# Воспользуемся методами numpy, чтобы найти обратную матрицу к матрице A (np.linalg.inv)\n",
    "\n",
    "...\n",
    "\n",
    "# Убедимся, что она найдена верно\n",
    "\n",
    "print('', ...)"
   ]
  },
  {
   "cell_type": "markdown",
   "metadata": {
    "id": "eYBPKbGSONr-"
   },
   "source": [
    "Проилюстрируем простым примером-задачей зачем же нам все это может понадобиться."
   ]
  },
  {
   "cell_type": "markdown",
   "metadata": {
    "id": "lAqqQFsUOpj7"
   },
   "source": [
    "#### Задача. Решение СЛАУ.\n",
    "Допустим, что у нас есть 3 параметра стоимости продукта (например, ноутбука). У нас есть матрица $A$ размерности 3 на 3. Каждый столбец соответствует одной из характеристик. Например, объем оперативной памяти в гигабайтах, объем ssd в гигабайтах, наличие или отсутствие видеокарты. Также у нас имеется столбец $b$ размерности 3, отражающий стоимость каждого ноутбука. Мы хотим понять процесс ценообразования, и поэтому хотим найти веса с которыми каждый из параметров влияет на стоимость ноутбука. Итого имеем\n",
    "\n",
    "$$Ax = b$$\n",
    "\n",
    "где $x$ -- это столбец из трех неизвестных $x_1,\\ x_2,\\ x_3$.\n",
    "\n",
    "Как бы мы записали это все в школе?\n",
    "\n",
    "Решите это уравнение, и скажите ответ если\n",
    "$$\n",
    "\\begin{equation*}\n",
    "A = \\left(\n",
    "\\begin{array}{cccc}\n",
    "4 & 512 & 1 \\\\\n",
    "8 & 512 & 0 \\\\\n",
    "16 & 256 & 1\n",
    "\\end{array}\n",
    "\\right)\n",
    "\\end{equation*}\n",
    "$$\n",
    "\n",
    "$$\n",
    "\\begin{equation*}\n",
    "b = \\left(\n",
    "\\begin{array}{cccc}\n",
    "50000 \\\\\n",
    "54000 \\\\\n",
    "75000\n",
    "\\end{array}\n",
    "\\right)\n",
    "\\end{equation*}\n",
    "$$"
   ]
  },
  {
   "cell_type": "code",
   "execution_count": null,
   "metadata": {
    "colab": {
     "base_uri": "https://localhost:8080/"
    },
    "id": "gkcAXIFwRnFj",
    "outputId": "bc4c98e5-252b-44dd-93f4-e8d136776a34"
   },
   "outputs": [
    {
     "data": {
      "text/plain": [
       "array([3250.    ,   54.6875, 9000.    ])"
      ]
     },
     "execution_count": 121,
     "metadata": {},
     "output_type": "execute_result"
    }
   ],
   "source": [
    "# TODO: решите на бумаге\n",
    "# ... x1=?, x2=?, x3=?\n",
    "\n",
    "# ваш код тут, решите систему с помощью numpy"
   ]
  },
  {
   "cell_type": "markdown",
   "metadata": {
    "id": "qVo7R9CmTVc9"
   },
   "source": [
    "В нашем случае, система решается, и все переменные оказываются значимыми. Конечно, чаще мы будем иметь дело с ситуацией, когда количество измерений больше, чем количество признаков. Тогда, подобная задача будет называться линейной регрессией. Кроме того, она также будет иметь точное решение, которое можно получить с помощью линейных преобразований."
   ]
  },
  {
   "cell_type": "markdown",
   "metadata": {
    "id": "vgRXtaDtghW8"
   },
   "source": [
    "### Расстояния между векторами\n",
    "\n",
    "Давайте подумаем на основании чего мы могли бы сказать, что вектора похожи? Где это может быть нужно?"
   ]
  },
  {
   "cell_type": "code",
   "execution_count": null,
   "metadata": {
    "id": "rj-BR994fsTH"
   },
   "outputs": [],
   "source": [
    "# Реализуем наши идеи\n",
    "\n",
    "..."
   ]
  },
  {
   "cell_type": "markdown",
   "metadata": {
    "id": "MOAnid7YCWdk"
   },
   "source": [
    "#### Задача. Коллаборативная фильтрация.\n",
    "Допустим мы хотим рекомендовать новые фильмы, исходя из того какие фильмы пользователь уже посмотрел. Делать мы это будем с оглядкой на других пользователей, наиболее похожих на него.\n",
    "\n",
    "Предлагается использовать следующую формулу для вычисления рекомендации.\n",
    "\n",
    "$$r_u^i = k \\sum_{u' \\in U_N}sim(u,u') \\cdot r_{u'}^i$$\n",
    "\n",
    "Где $u$ -- рассматриваемый пользователь. $U_N$ -- это множество N наиболее близких пользователей к пользователю $u$ (является подмножеством всех пользователей $U$). $i$ -- рассматриваемый фильм. $sim(u,u')$ -- метрика \"похожести\" двух пользователей, чем она больше, тем бОльший вклад вносит оценка данного пользователя. $k$ -- нормировочный коэффициент.\n",
    "\n",
    "$$k = \\frac{1}{\\sum_{u' \\in U_N} |sim(u, u')|}$$\n",
    "\n",
    "В качестве меры похожести предлагается использовать косинус между векторами с оценками фильмов."
   ]
  },
  {
   "cell_type": "markdown",
   "metadata": {
    "id": "nZnb9pgnETPc"
   },
   "source": [
    "Ниже клетка с подготовкой данных, чтобы она заработала, вам нужно загрузить в colab два файла:\n",
    "1. [ratings_small.csv](https://drive.google.com/file/d/1vLWjMMnbD4tRcklJcOc4mjWQ0oaNx9V6/view?usp=sharing) -- файл с рейтингами фильмов. \n",
    "2. [movies_metadata.csv](https://drive.google.com/file/d/1QpoLCUUljSZ1CxzVqDC3PUVZ2qZ7Cfoo/view?usp=sharing) -- файл с метаданными о фильмах (например, их названия).\n",
    "\n",
    "Сначала эти два файла нужно скачать себе на компьютер, а затем загрузить в окно \"файлы\" в ноутбуке."
   ]
  },
  {
   "cell_type": "code",
   "execution_count": null,
   "metadata": {
    "colab": {
     "base_uri": "https://localhost:8080/"
    },
    "id": "CP1rySMd26hE",
    "outputId": "40eb8184-7c6c-4e81-b9bd-a9bf2633b59d"
   },
   "outputs": [
    {
     "name": "stderr",
     "output_type": "stream",
     "text": [
      "/usr/local/lib/python3.7/dist-packages/IPython/core/interactiveshell.py:3326: DtypeWarning: Columns (10) have mixed types.Specify dtype option on import or set low_memory=False.\n",
      "  exec(code_obj, self.user_global_ns, self.user_ns)\n"
     ]
    }
   ],
   "source": [
    "import numpy as np\n",
    "import pandas as pd\n",
    "data = pd.read_csv(\"ratings_small.csv\")\n",
    "pvt = pd.pivot_table(data, index=\"userId\", columns=\"movieId\", values=\"rating\", aggfunc=\"mean\", fill_value=0)\n",
    "meta = pd.read_csv(\"movies_metadata.csv\")\n",
    "top200ratings = pvt.sum(axis=0).sort_values(ascending=False)[:200].index.sort_values()\n",
    "myfilms = meta.loc[meta[\"id\"].isin(top200ratings.astype(\"string\")), [\"id\", \"original_title\"]]\n",
    "myfilms['id'] = myfilms['id'].astype(int)\n",
    "myfilms = myfilms.sort_values(by=\"id\")\n",
    "myfilms = myfilms.reset_index()\n",
    "mytop100 = myfilms[['id', 'original_title']][:100]\n",
    "X = pvt.loc[:,mytop100['id'].sort_values()].to_numpy()\n",
    "ids_titles = mytop100['original_title'].to_dict()"
   ]
  },
  {
   "cell_type": "markdown",
   "metadata": {
    "id": "ALUYaZQKFZDc"
   },
   "source": [
    "На выходе у нас две сокращенных структуры.\n",
    "\n",
    "1. X -- матрица оценок. Каждой строчке соответствует пользователь, а каждому столбцу соответствует фильм.\n",
    "2. ids_titles -- словарь в котором каждому номеру столбца из матрицы X сопоставляется название фильма. Пригодится нам для красивого отображения рекомендаций."
   ]
  },
  {
   "cell_type": "markdown",
   "metadata": {
    "id": "hlVMQBAcFvrD"
   },
   "source": [
    "Мы рассмотрим с вами два варианта решения. Сначала мы напишем все так, будто numpy тут вообще не при чем, а затем отдельными кусками покажем как то же самое можно было сделать с помощью операций с матрицами и векторами."
   ]
  },
  {
   "cell_type": "markdown",
   "metadata": {
    "id": "jXbH0iTDHvTg"
   },
   "source": [
    "##### Вариант 1"
   ]
  },
  {
   "cell_type": "code",
   "execution_count": null,
   "metadata": {
    "id": "1V7zy4B7HxKk"
   },
   "outputs": [],
   "source": [
    "def get_similarities(X, ID):\n",
    "  \"\"\"\n",
    "  Возвращает меру похожести всех пользователей с выбранным нами пользователем с id ID.\n",
    "  ID также участвует в вычислениях, специально его исключать не нужно.\n",
    "  \"\"\"\n",
    "  res = []\n",
    "  vec = X[ID]\n",
    "  for row in X:\n",
    "    # TODO: сначала надо посчитать числитель\n",
    "\n",
    "    # TODO: затем квадраты модулей каждого вектора\n",
    "\n",
    "    # TODO: затем квадраты модулей каждого вектора\n",
    "\n",
    "    # и затем добавить результат вычисления в возвращаемый список\n",
    "    res.append(dot / ((np.sqrt(module_row) + 0.0000001)*(np.sqrt(module_id) + 0.0000001)))\n",
    "\n",
    "  return res\n",
    "\n",
    "\n",
    "def get_top_similarities_uids(similarities, N):\n",
    "  \"\"\"\n",
    "  Имея список похожестей для нашего пользователя, нужно выбрать топ N id пользователей \n",
    "  по которым мы будем делать предсказание для нашего пользователя ID.\n",
    "  \"\"\"\n",
    "  uids_similarities = list(zip(range(len(similarities)), similarities))\n",
    "  uids_similarities = sorted(uids_similarities, key=lambda pair: pair[1], reverse=True)\n",
    "\n",
    "  # здесь мы берем топ N похожих пользователей. Первого мы пропускаем, поскольку это сам пользователь\n",
    "  top_uids = [pair[0] for pair in uids_similarities[1:N+1]]\n",
    "  return top_uids\n",
    "\n",
    "\n",
    "def get_recommendation(X, similarities, top_uids):\n",
    "  \"\"\"\n",
    "  Возвращает список рекоммендаций, отсортированных от наиболее подходящих к наименее подходящим, \n",
    "  а также словарь в котором каждому id фильма сопоставлен score (значение r)\n",
    "  \"\"\"\n",
    "  similarities_cut = []\n",
    "  X_cut = []\n",
    "  # TODO: отфильтруйте X и similarities по топовым пользователям\n",
    "  \n",
    "\n",
    "  # TODO: вычислите нормировочный коэффициент k\n",
    "\n",
    "  prediction = []\n",
    "  # TODO: заполните список предсказаний\n",
    "\n",
    "\n",
    "  # просто формируем из списка предсказаний возвращаемые структуры\n",
    "  prediction_dict = dict(zip(range(0, len(prediction)), prediction,))\n",
    "  top_recommendations = sorted(prediction_dict, key=lambda k: prediction_dict[k], reverse=True)\n",
    "  return top_recommendations, prediction_dict\n",
    "\n",
    "\n",
    "def print_recommendations(X, \n",
    "                          ID, \n",
    "                          top_recommendations, \n",
    "                          scores_dict, \n",
    "                          ids_titles,\n",
    "                          max_recommendations=5\n",
    "                          ):\n",
    "  \"\"\"\n",
    "  Печатает на экран фильмы, которые пользователь смотрел и список рекомендаций, но не более\n",
    "  max_recommendations.\n",
    "  \"\"\"\n",
    "  print(\"Смотрел\")\n",
    "\n",
    "  for idx, rate in enumerate(X[ID]):\n",
    "    if rate > 0:\n",
    "      print(ids_titles[idx], rate)\n",
    "\n",
    "  print()\n",
    "  print()\n",
    "\n",
    "  print(\"Не смотрел\")\n",
    "  rec_showed = 0\n",
    "  for movieid in top_recommendations:\n",
    "    if X[ID, movieid] > 0:\n",
    "      continue\n",
    "    else:\n",
    "      rec_showed += 1\n",
    "      print(f\"{ids_titles[movieid]}, {scores_dict[movieid]:.2f}\")\n",
    "      if rec_showed == max_recommendations:\n",
    "        break"
   ]
  },
  {
   "cell_type": "code",
   "execution_count": null,
   "metadata": {
    "colab": {
     "base_uri": "https://localhost:8080/"
    },
    "id": "Kxineptv8oW4",
    "outputId": "2cc86784-1c66-421b-ad1d-aa5c763a2222"
   },
   "outputs": [
    {
     "data": {
      "text/plain": [
       "array([0., 5., 0., 0., 0., 0., 0., 5., 0., 0., 5., 4., 4., 0., 0., 0., 0.,\n",
       "       5., 0., 0., 5., 5., 0., 4., 5., 0., 0., 0., 0., 4., 0., 4., 4., 0.,\n",
       "       0., 0., 4., 5., 0., 0., 4., 0., 0., 0., 0., 0., 0., 0., 4., 4., 0.,\n",
       "       0., 4., 4., 0., 0., 4., 0., 0., 0., 0., 0., 0., 0., 0., 0., 0., 0.,\n",
       "       0., 0., 0., 0., 0., 0., 0., 0., 0., 0., 0., 4., 0., 0., 0., 0., 0.,\n",
       "       0., 5., 0., 0., 5., 0., 0., 2., 0., 0., 4., 0., 0., 0., 5.])"
      ]
     },
     "execution_count": 95,
     "metadata": {},
     "output_type": "execute_result"
    }
   ],
   "source": [
    "# ID пользователя для которого будем делать рекомендации\n",
    "ID = 200\n",
    "N = 5 # X.shape[0] # топ N ближайших пользователей\n",
    "X[ID]"
   ]
  },
  {
   "cell_type": "code",
   "execution_count": null,
   "metadata": {
    "colab": {
     "base_uri": "https://localhost:8080/"
    },
    "id": "dc_B9-rn_PPW",
    "outputId": "f67ad121-c086-45f8-a7f2-b85b8d6bb0fb"
   },
   "outputs": [
    {
     "name": "stdout",
     "output_type": "stream",
     "text": [
      "Смотрел\n",
      "Judgment Night 5.0\n",
      "Trois couleurs : Rouge 5.0\n",
      "48 Hrs. 5.0\n",
      "Lost in Translation 4.0\n",
      "Back to the Future Part II 4.0\n",
      "The 39 Steps 5.0\n",
      "A River Runs Through It 5.0\n",
      "Terminator 3: Rise of the Machines 5.0\n",
      "Halbe Treppe 4.0\n",
      "The Million Dollar Hotel 5.0\n",
      "Crustacés et coquillages 4.0\n",
      "A Nightmare on Elm Street 4.0\n",
      "Rain Man 4.0\n",
      "Sissi 4.0\n",
      "Monsoon Wedding 5.0\n",
      "Once Were Warriors 4.0\n",
      "The Conversation 4.0\n",
      "Солярис 4.0\n",
      "Men in Black II 4.0\n",
      "La belle et la bête 4.0\n",
      "La passion de Jeanne d'Arc 4.0\n",
      "Qui a tué Bambi ? 4.0\n",
      "Light of Day 5.0\n",
      "Reign Over Me 5.0\n",
      "Young and Innocent 2.0\n",
      "The Searchers 4.0\n",
      "And Then There Were None 5.0\n",
      "\n",
      "\n",
      "Не смотрел\n",
      "The Hours, 2.20\n",
      "Silent Hill, 2.17\n",
      "Say Anything..., 1.79\n",
      "Live and Let Die, 1.71\n",
      "The Dark, 1.60\n"
     ]
    }
   ],
   "source": [
    "%%time\n",
    "similarities = get_similarities(X, ID)\n",
    "top_uids = get_top_similarities_uids(similarities, N)\n",
    "top_recommendations, scores_dict = get_recommendation(X, similarities, top_uids)\n",
    "print_recommendations(X, ID, top_recommendations, scores_dict, ids_titles)"
   ]
  },
  {
   "cell_type": "markdown",
   "metadata": {
    "id": "AcnqRB6CLp1o"
   },
   "source": [
    "##### Вариант 2\n",
    "C использованием numpy и матричного умножения"
   ]
  },
  {
   "cell_type": "code",
   "execution_count": null,
   "metadata": {
    "id": "qZUBJ7IF-ZIT"
   },
   "outputs": [],
   "source": [
    "def get_similarities(X, ID):\n",
    "  \"\"\"\n",
    "  Возвращает меру похожести всех пользователей с выбранным нами пользователем с id ID.\n",
    "  ID также участвует в вычислениях, специально его исключать не нужно.\n",
    "  \"\"\"\n",
    "  pass\n",
    "  return cosines\n",
    "\n",
    "def get_recommendation(X, similarities, top_uids):\n",
    "  \"\"\"\n",
    "  Возвращает список рекоммендаций, отсортированных от наиболее подходящих к наименее подходящим, \n",
    "  а также словарь в котором каждому id фильма сопоставлен score (значение r)\n",
    "  \"\"\"\n",
    "  pass\n",
    "  prediction_dict = dict(zip(range(0, len(prediction)), prediction,))\n",
    "  top_recommendations = sorted(prediction_dict, key=lambda k: prediction_dict[k], reverse=True)\n",
    "  return top_recommendations, prediction_dict"
   ]
  },
  {
   "cell_type": "code",
   "execution_count": null,
   "metadata": {
    "colab": {
     "base_uri": "https://localhost:8080/"
    },
    "id": "_2c6kzXcO1y_",
    "outputId": "2cc86784-1c66-421b-ad1d-aa5c763a2222"
   },
   "outputs": [
    {
     "data": {
      "text/plain": [
       "array([0., 5., 0., 0., 0., 0., 0., 5., 0., 0., 5., 4., 4., 0., 0., 0., 0.,\n",
       "       5., 0., 0., 5., 5., 0., 4., 5., 0., 0., 0., 0., 4., 0., 4., 4., 0.,\n",
       "       0., 0., 4., 5., 0., 0., 4., 0., 0., 0., 0., 0., 0., 0., 4., 4., 0.,\n",
       "       0., 4., 4., 0., 0., 4., 0., 0., 0., 0., 0., 0., 0., 0., 0., 0., 0.,\n",
       "       0., 0., 0., 0., 0., 0., 0., 0., 0., 0., 0., 4., 0., 0., 0., 0., 0.,\n",
       "       0., 5., 0., 0., 5., 0., 0., 2., 0., 0., 4., 0., 0., 0., 5.])"
      ]
     },
     "execution_count": 95,
     "metadata": {},
     "output_type": "execute_result"
    }
   ],
   "source": [
    "# ID пользователя для которого будем делать рекомендации\n",
    "ID = 200\n",
    "N = 5 # X.shape[0] # топ N ближайших пользователей\n",
    "X[ID]"
   ]
  },
  {
   "cell_type": "code",
   "execution_count": null,
   "metadata": {
    "colab": {
     "base_uri": "https://localhost:8080/"
    },
    "id": "RilUg0r4O1y_",
    "outputId": "f67ad121-c086-45f8-a7f2-b85b8d6bb0fb"
   },
   "outputs": [
    {
     "name": "stdout",
     "output_type": "stream",
     "text": [
      "Смотрел\n",
      "Judgment Night 5.0\n",
      "Trois couleurs : Rouge 5.0\n",
      "48 Hrs. 5.0\n",
      "Lost in Translation 4.0\n",
      "Back to the Future Part II 4.0\n",
      "The 39 Steps 5.0\n",
      "A River Runs Through It 5.0\n",
      "Terminator 3: Rise of the Machines 5.0\n",
      "Halbe Treppe 4.0\n",
      "The Million Dollar Hotel 5.0\n",
      "Crustacés et coquillages 4.0\n",
      "A Nightmare on Elm Street 4.0\n",
      "Rain Man 4.0\n",
      "Sissi 4.0\n",
      "Monsoon Wedding 5.0\n",
      "Once Were Warriors 4.0\n",
      "The Conversation 4.0\n",
      "Солярис 4.0\n",
      "Men in Black II 4.0\n",
      "La belle et la bête 4.0\n",
      "La passion de Jeanne d'Arc 4.0\n",
      "Qui a tué Bambi ? 4.0\n",
      "Light of Day 5.0\n",
      "Reign Over Me 5.0\n",
      "Young and Innocent 2.0\n",
      "The Searchers 4.0\n",
      "And Then There Were None 5.0\n",
      "\n",
      "\n",
      "Не смотрел\n",
      "The Hours, 2.20\n",
      "Silent Hill, 2.17\n",
      "Say Anything..., 1.79\n",
      "Live and Let Die, 1.71\n",
      "The Dark, 1.60\n"
     ]
    }
   ],
   "source": [
    "%%time\n",
    "similarities = get_similarities(X, ID)\n",
    "top_uids = get_top_similarities_uids(similarities, N)\n",
    "top_recommendations, scores_dict = get_recommendation(X, similarities, top_uids)\n",
    "print_recommendations(X, ID, top_recommendations, scores_dict, ids_titles)"
   ]
  },
  {
   "cell_type": "markdown",
   "metadata": {
    "id": "Z1q8S8oMeApH"
   },
   "source": [
    "## Подведем итог того, что мы узнали\n",
    "\n",
    "1. **Узнали:** Как численно считать производные функций.  \n",
    "    **Как будем использовать:** Будем находить минимумы (н-р расходы) и максимумы (н-р доходы).\n",
    "\n",
    "2. **Узнали:** Что такое матрицы, вектора и операции над ними.  \n",
    "    **Как будем использовать:** Многие алгоритмы ML и DL работаю на этих принципах. Будем разбираться как все устроено и даже применим простые знания из линейной алгебры, чтобы сделать алгоритм рекомендаций!)"
   ]
  },
  {
   "cell_type": "code",
   "execution_count": null,
   "metadata": {
    "id": "tTpu0mc1WKOb"
   },
   "outputs": [],
   "source": []
  }
 ],
 "metadata": {
  "colab": {
   "provenance": []
  },
  "kernelspec": {
   "display_name": "Python 3 (ipykernel)",
   "language": "python",
   "name": "python3"
  },
  "language_info": {
   "codemirror_mode": {
    "name": "ipython",
    "version": 3
   },
   "file_extension": ".py",
   "mimetype": "text/x-python",
   "name": "python",
   "nbconvert_exporter": "python",
   "pygments_lexer": "ipython3",
   "version": "3.9.13"
  },
  "toc": {
   "base_numbering": 1,
   "nav_menu": {},
   "number_sections": true,
   "sideBar": true,
   "skip_h1_title": true,
   "title_cell": "Table of Contents",
   "title_sidebar": "Contents",
   "toc_cell": true,
   "toc_position": {},
   "toc_section_display": true,
   "toc_window_display": true
  }
 },
 "nbformat": 4,
 "nbformat_minor": 1
}
